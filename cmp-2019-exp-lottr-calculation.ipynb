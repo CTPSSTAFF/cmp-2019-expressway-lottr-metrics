{
 "cells": [
  {
   "cell_type": "markdown",
   "id": "fbbc75ed",
   "metadata": {},
   "source": [
    "###  Calculate TMC-by-TMC AM and PM LOTTR metrics for 2019 CMP Expressways"
   ]
  },
  {
   "cell_type": "code",
   "execution_count": null,
   "id": "48886e25",
   "metadata": {},
   "outputs": [],
   "source": [
    "# Import required packages\n",
    "import pandas as pd"
   ]
  },
  {
   "cell_type": "code",
   "execution_count": null,
   "id": "8773acac",
   "metadata": {},
   "outputs": [],
   "source": [
    "am_data_csv = r'data/cmp_2019_exp_travel_times_am.csv'"
   ]
  },
  {
   "cell_type": "code",
   "execution_count": null,
   "id": "5ce5e7bc",
   "metadata": {},
   "outputs": [],
   "source": [
    "pm_data_csv = r'data/cmp_2019_exp_travel_times_pm.csv'"
   ]
  },
  {
   "cell_type": "code",
   "execution_count": null,
   "id": "0aa006cc",
   "metadata": {},
   "outputs": [],
   "source": [
    "am_df = pd.read_csv(am_data_csv)"
   ]
  },
  {
   "cell_type": "code",
   "execution_count": null,
   "id": "1f4769a6",
   "metadata": {},
   "outputs": [],
   "source": [
    "am_g50 = am_df.groupby('tmc')['travel_time'].quantile(q=0.5)"
   ]
  },
  {
   "cell_type": "code",
   "execution_count": null,
   "id": "f9585e83",
   "metadata": {},
   "outputs": [],
   "source": [
    "am_g50_df = am_g50.to_frame()"
   ]
  },
  {
   "cell_type": "code",
   "execution_count": null,
   "id": "66d7e2e6",
   "metadata": {},
   "outputs": [],
   "source": [
    "am_g50_df = am_g50_df.rename(columns={'travel_time' : 'am_tt_50_pct'})"
   ]
  },
  {
   "cell_type": "code",
   "execution_count": null,
   "id": "0bdb8022",
   "metadata": {},
   "outputs": [],
   "source": []
  },
  {
   "cell_type": "code",
   "execution_count": null,
   "id": "05b588cd",
   "metadata": {},
   "outputs": [],
   "source": [
    "am_g80 = am_df.groupby('tmc')['travel_time'].quantile(q=0.8)"
   ]
  },
  {
   "cell_type": "code",
   "execution_count": null,
   "id": "b9f8146d",
   "metadata": {},
   "outputs": [],
   "source": [
    "am_g80_df = am_g80.to_frame()"
   ]
  },
  {
   "cell_type": "code",
   "execution_count": null,
   "id": "5755128b",
   "metadata": {},
   "outputs": [],
   "source": [
    "am_g80_df = am_g80_df.rename(columns={'travel_time' : 'am_tt_80_pct'})"
   ]
  },
  {
   "cell_type": "code",
   "execution_count": null,
   "id": "e6977e2c",
   "metadata": {},
   "outputs": [],
   "source": [
    "am_lottr_df = am_g80_df.merge(right=am_g50_df, left_on='tmc', right_on='tmc')"
   ]
  },
  {
   "cell_type": "code",
   "execution_count": null,
   "id": "c3b209ce",
   "metadata": {},
   "outputs": [],
   "source": [
    "am_lottr_df.head(10)"
   ]
  },
  {
   "cell_type": "code",
   "execution_count": null,
   "id": "6b596bbc",
   "metadata": {},
   "outputs": [],
   "source": [
    "am_lottr_df['am_lottr'] = am_lottr_df['am_tt_80_pct'] / am_lottr_df['am_tt_50_pct']"
   ]
  },
  {
   "cell_type": "code",
   "execution_count": null,
   "id": "6fe84134",
   "metadata": {},
   "outputs": [],
   "source": [
    "am_lottr_df.head(10)"
   ]
  },
  {
   "cell_type": "code",
   "execution_count": null,
   "id": "fd84ab7e",
   "metadata": {},
   "outputs": [],
   "source": [
    "len(am_lottr_df)"
   ]
  },
  {
   "cell_type": "code",
   "execution_count": null,
   "id": "5269f631",
   "metadata": {},
   "outputs": [],
   "source": []
  },
  {
   "cell_type": "code",
   "execution_count": null,
   "id": "0ea74df3",
   "metadata": {},
   "outputs": [],
   "source": [
    "pm_df = pd.read_csv(pm_data_csv)"
   ]
  },
  {
   "cell_type": "code",
   "execution_count": null,
   "id": "338ab858",
   "metadata": {},
   "outputs": [],
   "source": [
    "pm_g50 = pm_df.groupby('tmc')['travel_time'].quantile(q=0.5)"
   ]
  },
  {
   "cell_type": "code",
   "execution_count": null,
   "id": "07272dcd",
   "metadata": {},
   "outputs": [],
   "source": [
    "pm_g50_df = pm_g50.to_frame()"
   ]
  },
  {
   "cell_type": "code",
   "execution_count": null,
   "id": "42ce0d73",
   "metadata": {},
   "outputs": [],
   "source": [
    "pm_g50_df = pm_g50_df.rename(columns={'travel_time' : 'pm_tt_50_pct'})"
   ]
  },
  {
   "cell_type": "code",
   "execution_count": null,
   "id": "0c961678",
   "metadata": {},
   "outputs": [],
   "source": [
    "pm_g80 = pm_df.groupby('tmc')['travel_time'].quantile(q=0.8)"
   ]
  },
  {
   "cell_type": "code",
   "execution_count": null,
   "id": "0237ee3b",
   "metadata": {},
   "outputs": [],
   "source": [
    "pm_g80_df = pm_g80.to_frame()"
   ]
  },
  {
   "cell_type": "code",
   "execution_count": null,
   "id": "d9bfe953",
   "metadata": {},
   "outputs": [],
   "source": [
    "pm_g80_df = pm_g80_df.rename(columns={'travel_time' : 'pm_tt_80_pct'})"
   ]
  },
  {
   "cell_type": "code",
   "execution_count": null,
   "id": "23302794",
   "metadata": {},
   "outputs": [],
   "source": [
    "pm_lottr_df = pm_g80_df.merge(right=pm_g50_df, left_on='tmc', right_on='tmc')"
   ]
  },
  {
   "cell_type": "code",
   "execution_count": null,
   "id": "c4bbe923",
   "metadata": {},
   "outputs": [],
   "source": [
    "pm_lottr_df['pm_lottr'] = pm_lottr_df['pm_tt_80_pct'] / pm_lottr_df['pm_tt_50_pct']"
   ]
  },
  {
   "cell_type": "code",
   "execution_count": null,
   "id": "e5b70c08",
   "metadata": {},
   "outputs": [],
   "source": [
    "pm_lottr_df.head(10)"
   ]
  },
  {
   "cell_type": "code",
   "execution_count": null,
   "id": "0fe85f07",
   "metadata": {},
   "outputs": [],
   "source": [
    "len(pm_lottr_df)"
   ]
  },
  {
   "cell_type": "code",
   "execution_count": null,
   "id": "19a86571",
   "metadata": {},
   "outputs": [],
   "source": []
  },
  {
   "cell_type": "code",
   "execution_count": null,
   "id": "e0a26aa8",
   "metadata": {},
   "outputs": [],
   "source": [
    "final_lottr_df = am_lottr_df.merge(right=pm_lottr_df, left_on='tmc', right_on='tmc')"
   ]
  },
  {
   "cell_type": "code",
   "execution_count": null,
   "id": "2c87bd97",
   "metadata": {},
   "outputs": [],
   "source": [
    "final_lottr_df = final_lottr_df.drop(columns=['am_tt_50_pct', 'am_tt_80_pct', 'pm_tt_50_pct', 'pm_tt_80_pct'])"
   ]
  },
  {
   "cell_type": "code",
   "execution_count": null,
   "id": "a1af09e1",
   "metadata": {},
   "outputs": [],
   "source": []
  },
  {
   "cell_type": "markdown",
   "id": "f43cd123",
   "metadata": {},
   "source": [
    "### Export final LOTTR dataframe as CSV file"
   ]
  },
  {
   "cell_type": "code",
   "execution_count": null,
   "id": "bb45eb64",
   "metadata": {},
   "outputs": [],
   "source": [
    "output_csv_fn = r'output/cmp_2019_exp_lottr_table.csv'"
   ]
  },
  {
   "cell_type": "code",
   "execution_count": null,
   "id": "e1cddb90",
   "metadata": {},
   "outputs": [],
   "source": [
    "final_lottr_df.to_csv(output_csv_fn)"
   ]
  },
  {
   "cell_type": "code",
   "execution_count": null,
   "id": "c2fbc02b",
   "metadata": {},
   "outputs": [],
   "source": []
  }
 ],
 "metadata": {
  "kernelspec": {
   "display_name": "Python 3 (ipykernel)",
   "language": "python",
   "name": "python3"
  },
  "language_info": {
   "codemirror_mode": {
    "name": "ipython",
    "version": 3
   },
   "file_extension": ".py",
   "mimetype": "text/x-python",
   "name": "python",
   "nbconvert_exporter": "python",
   "pygments_lexer": "ipython3",
   "version": "3.9.7"
  }
 },
 "nbformat": 4,
 "nbformat_minor": 5
}
